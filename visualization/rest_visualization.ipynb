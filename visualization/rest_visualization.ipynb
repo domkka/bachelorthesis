{
 "cells": [
  {
   "cell_type": "code",
   "execution_count": 5,
   "metadata": {},
   "outputs": [],
   "source": [
    "import pandas as pd\n",
    "import matplotlib.pyplot as plt\n",
    "import seaborn as sns\n",
    "import matplotlib.ticker as mtick\n",
    "import os\n",
    "\n",
    "\n",
    "output_dir = \"plots/\"\n",
    "os.makedirs(output_dir, exist_ok=True)\n",
    "\n",
    "df_vs = pd.read_csv(\"results/25vs21_results.csv\")\n",
    "df_melted = df_vs.melt(id_vars=\"proceedings\",value_vars=[\"Open Methodology\",\"Open Data\", \"Open Code\",\"Fully Met Criteria\"],var_name=\"Criterion\", value_name=\"Percentage\")\n",
    "plot_size=(6,4)"
   ]
  },
  {
   "cell_type": "code",
   "execution_count": 6,
   "id": "925d8052",
   "metadata": {},
   "outputs": [],
   "source": [
    "plt.figure(figsize=plot_size)\n",
    "sns.barplot(data=df_melted, x=\"Criterion\", y=\"Percentage\", hue=\"proceedings\", palette=\"Paired\")\n",
    "plt.gca().yaxis.set_major_formatter(mtick.PercentFormatter(decimals=0))\n",
    "plt.ylabel(\"Percentage of Papers\")\n",
    "plt.xlabel(\"Criterion\")\n",
    "plt.legend(title=\"Proceedings Comparison\")\n",
    "plt.tight_layout()\n",
    "plt.ylim(0,110)\n",
    "#plt.show()\n",
    "plt.savefig(f\"{output_dir}/comparison_25vs21.png\", dpi=300, bbox_inches=\"tight\")\n",
    "plt.close()"
   ]
  }
 ],
 "metadata": {
  "kernelspec": {
   "display_name": "Python 3",
   "language": "python",
   "name": "python3"
  },
  "language_info": {
   "codemirror_mode": {
    "name": "ipython",
    "version": 3
   },
   "file_extension": ".py",
   "mimetype": "text/x-python",
   "name": "python",
   "nbconvert_exporter": "python",
   "pygments_lexer": "ipython3",
   "version": "3.12.6"
  }
 },
 "nbformat": 4,
 "nbformat_minor": 5
}
