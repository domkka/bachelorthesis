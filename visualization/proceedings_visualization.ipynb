{
 "cells": [
  {
   "cell_type": "code",
   "execution_count": 1,
   "metadata": {},
   "outputs": [
    {
     "name": "stdout",
     "output_type": "stream",
     "text": [
      "12\n"
     ]
    }
   ],
   "source": [
    "import pandas as pd\n",
    "import matplotlib.pyplot as plt\n",
    "import seaborn as sns\n",
    "import os\n",
    "\n",
    "\n",
    "output_dir = \"plots/complete\"\n",
    "os.makedirs(output_dir, exist_ok=True)\n",
    "\n",
    "df_complete = pd.read_csv(\"results/complete_evaluation_results.csv\")\n",
    "\n",
    "condition = (df_complete[\"Code & Software Availability\"] == \"Met\") & (df_complete[\"Data Accessibility & Transparency\"] == \"Met\")\n",
    "print(len(df_complete[condition]))\n"
   ]
  },
  {
   "cell_type": "code",
   "execution_count": 2,
   "metadata": {},
   "outputs": [
    {
     "name": "stdout",
     "output_type": "stream",
     "text": [
      "score\n",
      "3    35\n",
      "4    23\n",
      "5    12\n",
      "Name: count, dtype: int64\n"
     ]
    }
   ],
   "source": [
    "plt.figure(figsize=(6,3))\n",
    "sns.countplot(data=df_complete, x=\"score\",color=\"#5B84C4\", dodge=False, width=0.5, order=[1,2,3,4,5])\n",
    "plt.title(\"Distribution of Reproducibility Scores\")\n",
    "plt.xlabel(\"Score\")\n",
    "plt.ylabel(\"Number of Papers\")\n",
    "#plt.show()\n",
    "print(df_complete[\"score\"].value_counts())\n",
    "plt.savefig(f\"{output_dir}/complete_repro_scores.png\", dpi=300, bbox_inches=\"tight\")\n",
    "plt.close()"
   ]
  },
  {
   "cell_type": "code",
   "execution_count": 3,
   "metadata": {},
   "outputs": [
    {
     "name": "stdout",
     "output_type": "stream",
     "text": [
      "reproducible\n",
      "no     58\n",
      "yes    12\n",
      "Name: count, dtype: int64\n"
     ]
    }
   ],
   "source": [
    "counts = df_complete[\"reproducible\"].value_counts().reindex([\"yes\",\"no\"])\n",
    "counts.index = [\"Reproducible\", \"Non-Reproducible\"]\n",
    "total = sum(counts)\n",
    "\n",
    "plt.figure(figsize=(5,3))\n",
    "plt.pie(counts, labels=counts.index, autopct=lambda p: f\"{int(round(p * total / 100))}\", colors=[\"#66c2a5\", \"#fc8d62\"])\n",
    "plt.title(\"Reproducible vs Non-Reproducible\")\n",
    "#plt.show()\n",
    "print(df_complete[\"reproducible\"].value_counts())\n",
    "plt.savefig(f\"{output_dir}/complete_repro_vs_no.png\", dpi=300, bbox_inches=\"tight\")\n",
    "plt.close()"
   ]
  },
  {
   "cell_type": "code",
   "execution_count": 4,
   "id": "074195c7",
   "metadata": {},
   "outputs": [
    {
     "name": "stdout",
     "output_type": "stream",
     "text": [
      "status                                   Met   Not Met\n",
      "criterion                                             \n",
      "Code & Software Availability        24 34.3%  46 65.7%\n",
      "Data Accessibility & Transparency   23 32.9%  47 67.1%\n",
      "Open Methodology & Documentation   70 100.0%    0 0.0%\n",
      "Preregistration                       1 1.4%  69 98.6%\n",
      "Results & Interpretation           70 100.0%    0 0.0%\n",
      "Type of Analysis                   70 100.0%    0 0.0%\n"
     ]
    }
   ],
   "source": [
    "categories = df_complete.columns[3:]\n",
    "\n",
    "melted = df_complete.melt(value_vars=categories, var_name=\"criterion\", value_name=\"status\")\n",
    "\n",
    "counts = melted.groupby(\"criterion\")[\"status\"].value_counts().unstack(fill_value=0)\n",
    "percentages = counts.div(counts.sum(axis=1), axis= 0) * 100\n",
    "\n",
    "plt.figure(figsize=(12,6))\n",
    "sns.countplot(data=melted, x=\"criterion\", hue=\"status\", order=categories, palette=\"muted\")\n",
    "\n",
    "plt.title(\"Compliance by Criterion\")\n",
    "plt.xlabel(\"Reproducibility Criteria\")\n",
    "plt.ylabel(\"Number of Papers\")\n",
    "plt.xticks(rotation=45, ha=\"right\")\n",
    "plt.legend(title=\"status\")\n",
    "plt.tight_layout()\n",
    "#plt.show()\n",
    "print(counts.astype(str) + \" \" + percentages.round(1).astype(str)+\"%\")\n",
    "plt.savefig(f\"{output_dir}/complete_comp_criterion.png\", dpi=300, bbox_inches=\"tight\")\n",
    "plt.close()"
   ]
  },
  {
   "cell_type": "code",
   "execution_count": null,
   "id": "5d543d23",
   "metadata": {},
   "outputs": [],
   "source": []
  }
 ],
 "metadata": {
  "kernelspec": {
   "display_name": "Python 3",
   "language": "python",
   "name": "python3"
  },
  "language_info": {
   "codemirror_mode": {
    "name": "ipython",
    "version": 3
   },
   "file_extension": ".py",
   "mimetype": "text/x-python",
   "name": "python",
   "nbconvert_exporter": "python",
   "pygments_lexer": "ipython3",
   "version": "3.12.6"
  }
 },
 "nbformat": 4,
 "nbformat_minor": 5
}
